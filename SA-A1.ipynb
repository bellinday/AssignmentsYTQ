{
 "cells": [
  {
   "cell_type": "markdown",
   "id": "345dc691",
   "metadata": {},
   "source": [
    "# Sentimental Analysis\n",
    "using textblob, nltk, pandas and numpy"
   ]
  },
  {
   "cell_type": "code",
   "execution_count": 543,
   "id": "45acc6f5",
   "metadata": {},
   "outputs": [],
   "source": [
    "from textblob import TextBlob\n",
    "from textblob import Word\n",
    "import nltk\n",
    "import pandas as pd\n",
    "import numpy as np\n",
    "from nltk.corpus import stopwords"
   ]
  },
  {
   "cell_type": "code",
   "execution_count": 544,
   "id": "25e31ee3",
   "metadata": {},
   "outputs": [],
   "source": [
    "mcd = pd.read_csv(r\"C:\\Users\\belin\\Desktop\\Research\\McDonalds-Yelp-Sentiment.csv\" )"
   ]
  },
  {
   "cell_type": "code",
   "execution_count": 545,
   "id": "827c23ac",
   "metadata": {},
   "outputs": [
    {
     "data": {
      "text/plain": [
       "pandas.core.frame.DataFrame"
      ]
     },
     "execution_count": 545,
     "metadata": {},
     "output_type": "execute_result"
    }
   ],
   "source": [
    "type(mcd)"
   ]
  },
  {
   "cell_type": "code",
   "execution_count": 546,
   "id": "99d69212",
   "metadata": {},
   "outputs": [
    {
     "data": {
      "text/plain": [
       "(1525, 10)"
      ]
     },
     "execution_count": 546,
     "metadata": {},
     "output_type": "execute_result"
    }
   ],
   "source": [
    "mcd.shape"
   ]
  },
  {
   "cell_type": "code",
   "execution_count": 547,
   "id": "062b518b",
   "metadata": {
    "scrolled": true
   },
   "outputs": [],
   "source": [
    "#mcd.head()"
   ]
  },
  {
   "cell_type": "markdown",
   "id": "aaba6ca5",
   "metadata": {},
   "source": [
    "## Removing un-necessary columns from csv file"
   ]
  },
  {
   "cell_type": "code",
   "execution_count": 548,
   "id": "91f151e5",
   "metadata": {},
   "outputs": [],
   "source": [
    "to_drop = ['_unit_id','_golden','_unit_state','_trusted_judgments','_last_judgment_at','policies_violated','policies_violated:confidence','city','policies_violated_gold']"
   ]
  },
  {
   "cell_type": "code",
   "execution_count": 549,
   "id": "3350974c",
   "metadata": {},
   "outputs": [],
   "source": [
    "mcd.drop(to_drop, inplace=True, axis=1)"
   ]
  },
  {
   "cell_type": "code",
   "execution_count": 552,
   "id": "e1671f82",
   "metadata": {},
   "outputs": [
    {
     "data": {
      "text/plain": [
       "0     I'm not a huge mcds lover, but I've been to be...\n",
       "1     Terrible customer service. ξI came in at 9:30p...\n",
       "2     First they \"lost\" my order, actually they gave...\n",
       "3     I see I'm not the only one giving 1 star. Only...\n",
       "4     Well, it's McDonald's, so you know what the fo...\n",
       "5     This has to be one of the worst and slowest Mc...\n",
       "6     I'm not crazy about this McDonald's. ξThis is ...\n",
       "7     One Star and I'm beng kind. I blame management...\n",
       "8     Never been upset about any fast food drive thr...\n",
       "9     This McDonald's has gotten much better. Usuall...\n",
       "10    Let's start here only reason I came into McDon...\n",
       "11    Other businesses throughout Metro Atlanta open...\n",
       "12    The drive thru makes them lost a star since my...\n",
       "13    Believe it or not, this used to be q really go...\n",
       "14    As the previous yelpers have already stated, t...\n",
       "15    25 minutes in drive through line. Gunshots fro...\n",
       "16    Super slow service, food's terrible like its b...\n",
       "17    SLOW-SLOW-SLOW! ξDon't go here if you have a f...\n",
       "18    On your way to the airport or just cruising do...\n",
       "19    This is the worst McDonalds I have ever seen. ...\n",
       "20    I had the McCafe Mocha and must say that it wa...\n",
       "21    GHETTO!! went in yesterday just to get a soda ...\n",
       "22    I visited mcdonalds on Dec 20, 2011 at 12:54 I...\n",
       "23    I usually hit the drive thru once or twice a w...\n",
       "24    What a joke.Don't do take out as you will not ...\n",
       "25    I wish I can give zero stars. Freezing cold re...\n",
       "26    I agree with most reviewers on this one. Staff...\n",
       "27    I don't think this location deserves even one ...\n",
       "28    This is one rude Mcdonalds! The food takes lon...\n",
       "29    the managers at this mcdonalds are awesome but...\n",
       "Name: review, dtype: object"
      ]
     },
     "execution_count": 552,
     "metadata": {},
     "output_type": "execute_result"
    }
   ],
   "source": [
    "mcd['review'][:30]"
   ]
  },
  {
   "cell_type": "markdown",
   "id": "153075a0",
   "metadata": {},
   "source": [
    "## Counting the words (to clean)"
   ]
  },
  {
   "cell_type": "code",
   "execution_count": 507,
   "id": "cb81973e",
   "metadata": {},
   "outputs": [],
   "source": [
    "mcd['word_count'] = mcd['review'].apply(lambda x: len(x.split()))"
   ]
  },
  {
   "cell_type": "code",
   "execution_count": 508,
   "id": "b7bdff92",
   "metadata": {},
   "outputs": [],
   "source": [
    "#mcd.head()"
   ]
  },
  {
   "cell_type": "code",
   "execution_count": 509,
   "id": "21fa3457",
   "metadata": {},
   "outputs": [],
   "source": [
    "mcd['char_count'] = mcd['review'].apply(lambda x: len(x))"
   ]
  },
  {
   "cell_type": "code",
   "execution_count": 510,
   "id": "0d3d9735",
   "metadata": {},
   "outputs": [],
   "source": [
    "#mcd.head()"
   ]
  },
  {
   "cell_type": "code",
   "execution_count": 511,
   "id": "f9554607",
   "metadata": {},
   "outputs": [],
   "source": [
    "def average_words(x):\n",
    "    words = x.split()\n",
    "    return sum(len(word) for word in words) / len(words)"
   ]
  },
  {
   "cell_type": "code",
   "execution_count": 512,
   "id": "ec488cf0",
   "metadata": {},
   "outputs": [],
   "source": [
    " mcd['avg_word_len'] = mcd['review'].apply(lambda x: average_words(x))"
   ]
  },
  {
   "cell_type": "code",
   "execution_count": 513,
   "id": "26bc872b",
   "metadata": {},
   "outputs": [],
   "source": [
    "#mcd.head()"
   ]
  },
  {
   "cell_type": "code",
   "execution_count": 514,
   "id": "2804a6e4",
   "metadata": {},
   "outputs": [],
   "source": [
    "stop_words = stopwords.words('english')"
   ]
  },
  {
   "cell_type": "code",
   "execution_count": 515,
   "id": "ada3a668",
   "metadata": {},
   "outputs": [],
   "source": [
    "mcd['stop_words_count'] = mcd['review'].apply(lambda x: len([word for word in x.split() if word in stop_words]))"
   ]
  },
  {
   "cell_type": "code",
   "execution_count": 516,
   "id": "b5ac20cd",
   "metadata": {},
   "outputs": [],
   "source": [
    "#mcd.head()"
   ]
  },
  {
   "cell_type": "code",
   "execution_count": 517,
   "id": "184f5fbf",
   "metadata": {},
   "outputs": [],
   "source": [
    "mcd['stopword_rate'] = mcd['stop_words_count'] / mcd['word_count']"
   ]
  },
  {
   "cell_type": "code",
   "execution_count": 518,
   "id": "58b296b9",
   "metadata": {},
   "outputs": [],
   "source": [
    "#mcd.head()"
   ]
  },
  {
   "cell_type": "code",
   "execution_count": 519,
   "id": "ff1cf695",
   "metadata": {},
   "outputs": [
    {
     "data": {
      "text/html": [
       "<div>\n",
       "<style scoped>\n",
       "    .dataframe tbody tr th:only-of-type {\n",
       "        vertical-align: middle;\n",
       "    }\n",
       "\n",
       "    .dataframe tbody tr th {\n",
       "        vertical-align: top;\n",
       "    }\n",
       "\n",
       "    .dataframe thead th {\n",
       "        text-align: right;\n",
       "    }\n",
       "</style>\n",
       "<table border=\"1\" class=\"dataframe\">\n",
       "  <thead>\n",
       "    <tr style=\"text-align: right;\">\n",
       "      <th></th>\n",
       "      <th>review</th>\n",
       "      <th>word_count</th>\n",
       "      <th>char_count</th>\n",
       "      <th>avg_word_len</th>\n",
       "      <th>stop_words_count</th>\n",
       "      <th>stopword_rate</th>\n",
       "    </tr>\n",
       "  </thead>\n",
       "  <tbody>\n",
       "    <tr>\n",
       "      <th>49</th>\n",
       "      <td>Its good. 24hr</td>\n",
       "      <td>3</td>\n",
       "      <td>14</td>\n",
       "      <td>4.000000</td>\n",
       "      <td>0</td>\n",
       "      <td>0.000000</td>\n",
       "    </tr>\n",
       "    <tr>\n",
       "      <th>441</th>\n",
       "      <td>Always busy, food usually cold. Sigh.</td>\n",
       "      <td>6</td>\n",
       "      <td>37</td>\n",
       "      <td>5.333333</td>\n",
       "      <td>0</td>\n",
       "      <td>0.000000</td>\n",
       "    </tr>\n",
       "    <tr>\n",
       "      <th>729</th>\n",
       "      <td>It really needs ZERO stars! Terrible customer ...</td>\n",
       "      <td>18</td>\n",
       "      <td>113</td>\n",
       "      <td>5.333333</td>\n",
       "      <td>0</td>\n",
       "      <td>0.000000</td>\n",
       "    </tr>\n",
       "    <tr>\n",
       "      <th>643</th>\n",
       "      <td>It's McDonald's....enough said.</td>\n",
       "      <td>3</td>\n",
       "      <td>31</td>\n",
       "      <td>9.666667</td>\n",
       "      <td>0</td>\n",
       "      <td>0.000000</td>\n",
       "    </tr>\n",
       "    <tr>\n",
       "      <th>917</th>\n",
       "      <td>Typically always bad service there.</td>\n",
       "      <td>5</td>\n",
       "      <td>35</td>\n",
       "      <td>6.200000</td>\n",
       "      <td>0</td>\n",
       "      <td>0.000000</td>\n",
       "    </tr>\n",
       "    <tr>\n",
       "      <th>...</th>\n",
       "      <td>...</td>\n",
       "      <td>...</td>\n",
       "      <td>...</td>\n",
       "      <td>...</td>\n",
       "      <td>...</td>\n",
       "      <td>...</td>\n",
       "    </tr>\n",
       "    <tr>\n",
       "      <th>191</th>\n",
       "      <td>very nice and clean. i came here late night an...</td>\n",
       "      <td>31</td>\n",
       "      <td>142</td>\n",
       "      <td>3.612903</td>\n",
       "      <td>18</td>\n",
       "      <td>0.580645</td>\n",
       "    </tr>\n",
       "    <tr>\n",
       "      <th>412</th>\n",
       "      <td>Maybe it's just me, but it seems like the staf...</td>\n",
       "      <td>17</td>\n",
       "      <td>89</td>\n",
       "      <td>4.294118</td>\n",
       "      <td>10</td>\n",
       "      <td>0.588235</td>\n",
       "    </tr>\n",
       "    <tr>\n",
       "      <th>740</th>\n",
       "      <td>I had want here with my friend(1time) and my m...</td>\n",
       "      <td>54</td>\n",
       "      <td>251</td>\n",
       "      <td>3.666667</td>\n",
       "      <td>32</td>\n",
       "      <td>0.592593</td>\n",
       "    </tr>\n",
       "    <tr>\n",
       "      <th>1104</th>\n",
       "      <td>one of the speakers was broken but it did not ...</td>\n",
       "      <td>96</td>\n",
       "      <td>460</td>\n",
       "      <td>3.802083</td>\n",
       "      <td>59</td>\n",
       "      <td>0.614583</td>\n",
       "    </tr>\n",
       "    <tr>\n",
       "      <th>702</th>\n",
       "      <td>how do you screw up ice-cream? Come here for a...</td>\n",
       "      <td>11</td>\n",
       "      <td>58</td>\n",
       "      <td>4.363636</td>\n",
       "      <td>7</td>\n",
       "      <td>0.636364</td>\n",
       "    </tr>\n",
       "  </tbody>\n",
       "</table>\n",
       "<p>1525 rows × 6 columns</p>\n",
       "</div>"
      ],
      "text/plain": [
       "                                                 review  word_count  \\\n",
       "49                                       Its good. 24hr           3   \n",
       "441               Always busy, food usually cold. Sigh.           6   \n",
       "729   It really needs ZERO stars! Terrible customer ...          18   \n",
       "643                     It's McDonald's....enough said.           3   \n",
       "917                 Typically always bad service there.           5   \n",
       "...                                                 ...         ...   \n",
       "191   very nice and clean. i came here late night an...          31   \n",
       "412   Maybe it's just me, but it seems like the staf...          17   \n",
       "740   I had want here with my friend(1time) and my m...          54   \n",
       "1104  one of the speakers was broken but it did not ...          96   \n",
       "702   how do you screw up ice-cream? Come here for a...          11   \n",
       "\n",
       "      char_count  avg_word_len  stop_words_count  stopword_rate  \n",
       "49            14      4.000000                 0       0.000000  \n",
       "441           37      5.333333                 0       0.000000  \n",
       "729          113      5.333333                 0       0.000000  \n",
       "643           31      9.666667                 0       0.000000  \n",
       "917           35      6.200000                 0       0.000000  \n",
       "...          ...           ...               ...            ...  \n",
       "191          142      3.612903                18       0.580645  \n",
       "412           89      4.294118                10       0.588235  \n",
       "740          251      3.666667                32       0.592593  \n",
       "1104         460      3.802083                59       0.614583  \n",
       "702           58      4.363636                 7       0.636364  \n",
       "\n",
       "[1525 rows x 6 columns]"
      ]
     },
     "execution_count": 519,
     "metadata": {},
     "output_type": "execute_result"
    }
   ],
   "source": [
    "mcd.sort_values(by='stopword_rate')"
   ]
  },
  {
   "cell_type": "code",
   "execution_count": 520,
   "id": "9a617bef",
   "metadata": {},
   "outputs": [
    {
     "data": {
      "text/html": [
       "<div>\n",
       "<style scoped>\n",
       "    .dataframe tbody tr th:only-of-type {\n",
       "        vertical-align: middle;\n",
       "    }\n",
       "\n",
       "    .dataframe tbody tr th {\n",
       "        vertical-align: top;\n",
       "    }\n",
       "\n",
       "    .dataframe thead th {\n",
       "        text-align: right;\n",
       "    }\n",
       "</style>\n",
       "<table border=\"1\" class=\"dataframe\">\n",
       "  <thead>\n",
       "    <tr style=\"text-align: right;\">\n",
       "      <th></th>\n",
       "      <th>word_count</th>\n",
       "      <th>char_count</th>\n",
       "      <th>avg_word_len</th>\n",
       "      <th>stop_words_count</th>\n",
       "      <th>stopword_rate</th>\n",
       "    </tr>\n",
       "  </thead>\n",
       "  <tbody>\n",
       "    <tr>\n",
       "      <th>count</th>\n",
       "      <td>1525.000000</td>\n",
       "      <td>1525.000000</td>\n",
       "      <td>1525.000000</td>\n",
       "      <td>1525.000000</td>\n",
       "      <td>1525.000000</td>\n",
       "    </tr>\n",
       "    <tr>\n",
       "      <th>mean</th>\n",
       "      <td>96.558033</td>\n",
       "      <td>521.305574</td>\n",
       "      <td>4.461846</td>\n",
       "      <td>39.896393</td>\n",
       "      <td>0.397047</td>\n",
       "    </tr>\n",
       "    <tr>\n",
       "      <th>std</th>\n",
       "      <td>88.553957</td>\n",
       "      <td>480.984363</td>\n",
       "      <td>0.464843</td>\n",
       "      <td>37.729035</td>\n",
       "      <td>0.078022</td>\n",
       "    </tr>\n",
       "    <tr>\n",
       "      <th>min</th>\n",
       "      <td>3.000000</td>\n",
       "      <td>14.000000</td>\n",
       "      <td>3.444444</td>\n",
       "      <td>0.000000</td>\n",
       "      <td>0.000000</td>\n",
       "    </tr>\n",
       "    <tr>\n",
       "      <th>25%</th>\n",
       "      <td>38.000000</td>\n",
       "      <td>205.000000</td>\n",
       "      <td>4.184783</td>\n",
       "      <td>15.000000</td>\n",
       "      <td>0.366197</td>\n",
       "    </tr>\n",
       "    <tr>\n",
       "      <th>50%</th>\n",
       "      <td>71.000000</td>\n",
       "      <td>386.000000</td>\n",
       "      <td>4.402299</td>\n",
       "      <td>29.000000</td>\n",
       "      <td>0.407895</td>\n",
       "    </tr>\n",
       "    <tr>\n",
       "      <th>75%</th>\n",
       "      <td>126.000000</td>\n",
       "      <td>672.000000</td>\n",
       "      <td>4.655172</td>\n",
       "      <td>53.000000</td>\n",
       "      <td>0.445055</td>\n",
       "    </tr>\n",
       "    <tr>\n",
       "      <th>max</th>\n",
       "      <td>914.000000</td>\n",
       "      <td>4960.000000</td>\n",
       "      <td>9.666667</td>\n",
       "      <td>340.000000</td>\n",
       "      <td>0.636364</td>\n",
       "    </tr>\n",
       "  </tbody>\n",
       "</table>\n",
       "</div>"
      ],
      "text/plain": [
       "        word_count   char_count  avg_word_len  stop_words_count  stopword_rate\n",
       "count  1525.000000  1525.000000   1525.000000       1525.000000    1525.000000\n",
       "mean     96.558033   521.305574      4.461846         39.896393       0.397047\n",
       "std      88.553957   480.984363      0.464843         37.729035       0.078022\n",
       "min       3.000000    14.000000      3.444444          0.000000       0.000000\n",
       "25%      38.000000   205.000000      4.184783         15.000000       0.366197\n",
       "50%      71.000000   386.000000      4.402299         29.000000       0.407895\n",
       "75%     126.000000   672.000000      4.655172         53.000000       0.445055\n",
       "max     914.000000  4960.000000      9.666667        340.000000       0.636364"
      ]
     },
     "execution_count": 520,
     "metadata": {},
     "output_type": "execute_result"
    }
   ],
   "source": [
    "mcd.describe()"
   ]
  },
  {
   "cell_type": "markdown",
   "id": "8682eff7",
   "metadata": {},
   "source": [
    "## Cleaning the data"
   ]
  },
  {
   "cell_type": "code",
   "execution_count": 521,
   "id": "f8e5ffcc",
   "metadata": {},
   "outputs": [
    {
     "data": {
      "text/plain": [
       "0       I'm not a huge mcds lover, but I've been to be...\n",
       "1       Terrible customer service. ξI came in at 9:30p...\n",
       "2       First they \"lost\" my order, actually they gave...\n",
       "3       I see I'm not the only one giving 1 star. Only...\n",
       "4       Well, it's McDonald's, so you know what the fo...\n",
       "                              ...                        \n",
       "1520    I enjoyed the part where I repeatedly asked if...\n",
       "1521    Worst McDonalds I've been in in a long time! D...\n",
       "1522    When I am really craving for McDonald's, this ...\n",
       "1523    Two points right out of the gate: 1. Thuggery ...\n",
       "1524    I wanted to grab breakfast one morning before ...\n",
       "Name: review, Length: 1525, dtype: object"
      ]
     },
     "execution_count": 521,
     "metadata": {},
     "output_type": "execute_result"
    }
   ],
   "source": [
    "mcd['review']"
   ]
  },
  {
   "cell_type": "code",
   "execution_count": 522,
   "id": "854731ee",
   "metadata": {},
   "outputs": [],
   "source": [
    " mcd['lowercase'] = mcd['review'].apply(lambda x: \" \".join(word.lower() for word in x.split()))"
   ]
  },
  {
   "cell_type": "code",
   "execution_count": 523,
   "id": "39263e0a",
   "metadata": {},
   "outputs": [],
   "source": [
    "#mcd.head()"
   ]
  },
  {
   "cell_type": "code",
   "execution_count": 524,
   "id": "78944e44",
   "metadata": {},
   "outputs": [
    {
     "name": "stderr",
     "output_type": "stream",
     "text": [
      "<ipython-input-524-36cb519995a5>:1: FutureWarning: The default value of regex will change from True to False in a future version.\n",
      "  mcd['punctuation'] = mcd['lowercase'].str.replace('[^\\w\\s]', '')\n"
     ]
    }
   ],
   "source": [
    "mcd['punctuation'] = mcd['lowercase'].str.replace('[^\\w\\s]', '')"
   ]
  },
  {
   "cell_type": "code",
   "execution_count": 525,
   "id": "fbb80c52",
   "metadata": {},
   "outputs": [],
   "source": [
    "mcd['stopwords'] = mcd['punctuation'].apply(lambda x: \" \".join(word for word in x.split() if word not in stop_words))"
   ]
  },
  {
   "cell_type": "code",
   "execution_count": 526,
   "id": "f4789864",
   "metadata": {},
   "outputs": [],
   "source": [
    "#pd.Series(\" \".join(mcd['stopwords']).split()).value_counts()[:30]"
   ]
  },
  {
   "cell_type": "code",
   "execution_count": 527,
   "id": "1a45b137",
   "metadata": {},
   "outputs": [],
   "source": [
    "other_stop_words = ['mcds','mcdonalds','ξi','ξ','Î¾I','get','food','order','thru','coffee','fries','im','ive','thuggery']"
   ]
  },
  {
   "cell_type": "code",
   "execution_count": 528,
   "id": "eed9b321",
   "metadata": {},
   "outputs": [
    {
     "data": {
      "text/plain": [
       "14"
      ]
     },
     "execution_count": 528,
     "metadata": {},
     "output_type": "execute_result"
    }
   ],
   "source": [
    "len(other_stop_words)"
   ]
  },
  {
   "cell_type": "code",
   "execution_count": 529,
   "id": "146112e9",
   "metadata": {},
   "outputs": [],
   "source": [
    "mcd['clean_rev'] = mcd['stopwords'].apply(lambda x: \" \".join(word for word in x.split() if word not in other_stop_words)) "
   ]
  },
  {
   "cell_type": "code",
   "execution_count": 530,
   "id": "8712ca44",
   "metadata": {},
   "outputs": [],
   "source": [
    "#pd.Series(\" \".join(mcd['clean_rev']).split()).value_counts()[:30]"
   ]
  },
  {
   "cell_type": "code",
   "execution_count": 531,
   "id": "3a891ea6",
   "metadata": {},
   "outputs": [
    {
     "data": {
      "text/html": [
       "<div>\n",
       "<style scoped>\n",
       "    .dataframe tbody tr th:only-of-type {\n",
       "        vertical-align: middle;\n",
       "    }\n",
       "\n",
       "    .dataframe tbody tr th {\n",
       "        vertical-align: top;\n",
       "    }\n",
       "\n",
       "    .dataframe thead th {\n",
       "        text-align: right;\n",
       "    }\n",
       "</style>\n",
       "<table border=\"1\" class=\"dataframe\">\n",
       "  <thead>\n",
       "    <tr style=\"text-align: right;\">\n",
       "      <th></th>\n",
       "      <th>review</th>\n",
       "      <th>word_count</th>\n",
       "      <th>char_count</th>\n",
       "      <th>avg_word_len</th>\n",
       "      <th>stop_words_count</th>\n",
       "      <th>stopword_rate</th>\n",
       "      <th>lowercase</th>\n",
       "      <th>punctuation</th>\n",
       "      <th>stopwords</th>\n",
       "      <th>clean_rev</th>\n",
       "    </tr>\n",
       "  </thead>\n",
       "  <tbody>\n",
       "    <tr>\n",
       "      <th>0</th>\n",
       "      <td>I'm not a huge mcds lover, but I've been to be...</td>\n",
       "      <td>50</td>\n",
       "      <td>260</td>\n",
       "      <td>4.220000</td>\n",
       "      <td>19</td>\n",
       "      <td>0.380000</td>\n",
       "      <td>i'm not a huge mcds lover, but i've been to be...</td>\n",
       "      <td>im not a huge mcds lover but ive been to bette...</td>\n",
       "      <td>im huge mcds lover ive better ones far worst o...</td>\n",
       "      <td>huge lover better ones far worst one ever filt...</td>\n",
       "    </tr>\n",
       "    <tr>\n",
       "      <th>1</th>\n",
       "      <td>Terrible customer service. ξI came in at 9:30p...</td>\n",
       "      <td>82</td>\n",
       "      <td>443</td>\n",
       "      <td>4.414634</td>\n",
       "      <td>33</td>\n",
       "      <td>0.402439</td>\n",
       "      <td>terrible customer service. ξi came in at 9:30p...</td>\n",
       "      <td>terrible customer service ξi came in at 930pm ...</td>\n",
       "      <td>terrible customer service ξi came 930pm stood ...</td>\n",
       "      <td>terrible customer service came 930pm stood fro...</td>\n",
       "    </tr>\n",
       "    <tr>\n",
       "      <th>2</th>\n",
       "      <td>First they \"lost\" my order, actually they gave...</td>\n",
       "      <td>158</td>\n",
       "      <td>860</td>\n",
       "      <td>4.449367</td>\n",
       "      <td>76</td>\n",
       "      <td>0.481013</td>\n",
       "      <td>first they \"lost\" my order, actually they gave...</td>\n",
       "      <td>first they lost my order actually they gave it...</td>\n",
       "      <td>first lost order actually gave someone one els...</td>\n",
       "      <td>first lost actually gave someone one else took...</td>\n",
       "    </tr>\n",
       "    <tr>\n",
       "      <th>3</th>\n",
       "      <td>I see I'm not the only one giving 1 star. Only...</td>\n",
       "      <td>24</td>\n",
       "      <td>107</td>\n",
       "      <td>3.500000</td>\n",
       "      <td>10</td>\n",
       "      <td>0.416667</td>\n",
       "      <td>i see i'm not the only one giving 1 star. only...</td>\n",
       "      <td>i see im not the only one giving 1 star only b...</td>\n",
       "      <td>see im one giving 1 star 25 star thats need say</td>\n",
       "      <td>see one giving 1 star 25 star thats need say</td>\n",
       "    </tr>\n",
       "    <tr>\n",
       "      <th>4</th>\n",
       "      <td>Well, it's McDonald's, so you know what the fo...</td>\n",
       "      <td>148</td>\n",
       "      <td>793</td>\n",
       "      <td>4.364865</td>\n",
       "      <td>60</td>\n",
       "      <td>0.405405</td>\n",
       "      <td>well, it's mcdonald's, so you know what the fo...</td>\n",
       "      <td>well its mcdonalds so you know what the food i...</td>\n",
       "      <td>well mcdonalds know food ξthis review reflects...</td>\n",
       "      <td>well know ξthis review reflects solely poor se...</td>\n",
       "    </tr>\n",
       "  </tbody>\n",
       "</table>\n",
       "</div>"
      ],
      "text/plain": [
       "                                              review  word_count  char_count  \\\n",
       "0  I'm not a huge mcds lover, but I've been to be...          50         260   \n",
       "1  Terrible customer service. ξI came in at 9:30p...          82         443   \n",
       "2  First they \"lost\" my order, actually they gave...         158         860   \n",
       "3  I see I'm not the only one giving 1 star. Only...          24         107   \n",
       "4  Well, it's McDonald's, so you know what the fo...         148         793   \n",
       "\n",
       "   avg_word_len  stop_words_count  stopword_rate  \\\n",
       "0      4.220000                19       0.380000   \n",
       "1      4.414634                33       0.402439   \n",
       "2      4.449367                76       0.481013   \n",
       "3      3.500000                10       0.416667   \n",
       "4      4.364865                60       0.405405   \n",
       "\n",
       "                                           lowercase  \\\n",
       "0  i'm not a huge mcds lover, but i've been to be...   \n",
       "1  terrible customer service. ξi came in at 9:30p...   \n",
       "2  first they \"lost\" my order, actually they gave...   \n",
       "3  i see i'm not the only one giving 1 star. only...   \n",
       "4  well, it's mcdonald's, so you know what the fo...   \n",
       "\n",
       "                                         punctuation  \\\n",
       "0  im not a huge mcds lover but ive been to bette...   \n",
       "1  terrible customer service ξi came in at 930pm ...   \n",
       "2  first they lost my order actually they gave it...   \n",
       "3  i see im not the only one giving 1 star only b...   \n",
       "4  well its mcdonalds so you know what the food i...   \n",
       "\n",
       "                                           stopwords  \\\n",
       "0  im huge mcds lover ive better ones far worst o...   \n",
       "1  terrible customer service ξi came 930pm stood ...   \n",
       "2  first lost order actually gave someone one els...   \n",
       "3    see im one giving 1 star 25 star thats need say   \n",
       "4  well mcdonalds know food ξthis review reflects...   \n",
       "\n",
       "                                           clean_rev  \n",
       "0  huge lover better ones far worst one ever filt...  \n",
       "1  terrible customer service came 930pm stood fro...  \n",
       "2  first lost actually gave someone one else took...  \n",
       "3       see one giving 1 star 25 star thats need say  \n",
       "4  well know ξthis review reflects solely poor se...  "
      ]
     },
     "execution_count": 531,
     "metadata": {},
     "output_type": "execute_result"
    }
   ],
   "source": [
    "mcd.head()"
   ]
  },
  {
   "cell_type": "markdown",
   "id": "ce0f4254",
   "metadata": {},
   "source": [
    "## Lemmatization/"
   ]
  },
  {
   "cell_type": "code",
   "execution_count": 532,
   "id": "5d97457d",
   "metadata": {},
   "outputs": [],
   "source": [
    "mcd['lemmatized'] = mcd['clean_rev'].apply(lambda x: \" \".join(Word(word).lemmatize() for word in x.split()))"
   ]
  },
  {
   "cell_type": "code",
   "execution_count": 533,
   "id": "665f3828",
   "metadata": {},
   "outputs": [
    {
     "data": {
      "text/html": [
       "<div>\n",
       "<style scoped>\n",
       "    .dataframe tbody tr th:only-of-type {\n",
       "        vertical-align: middle;\n",
       "    }\n",
       "\n",
       "    .dataframe tbody tr th {\n",
       "        vertical-align: top;\n",
       "    }\n",
       "\n",
       "    .dataframe thead th {\n",
       "        text-align: right;\n",
       "    }\n",
       "</style>\n",
       "<table border=\"1\" class=\"dataframe\">\n",
       "  <thead>\n",
       "    <tr style=\"text-align: right;\">\n",
       "      <th></th>\n",
       "      <th>review</th>\n",
       "      <th>word_count</th>\n",
       "      <th>char_count</th>\n",
       "      <th>avg_word_len</th>\n",
       "      <th>stop_words_count</th>\n",
       "      <th>stopword_rate</th>\n",
       "      <th>lowercase</th>\n",
       "      <th>punctuation</th>\n",
       "      <th>stopwords</th>\n",
       "      <th>clean_rev</th>\n",
       "      <th>lemmatized</th>\n",
       "    </tr>\n",
       "  </thead>\n",
       "  <tbody>\n",
       "    <tr>\n",
       "      <th>0</th>\n",
       "      <td>I'm not a huge mcds lover, but I've been to be...</td>\n",
       "      <td>50</td>\n",
       "      <td>260</td>\n",
       "      <td>4.220000</td>\n",
       "      <td>19</td>\n",
       "      <td>0.380000</td>\n",
       "      <td>i'm not a huge mcds lover, but i've been to be...</td>\n",
       "      <td>im not a huge mcds lover but ive been to bette...</td>\n",
       "      <td>im huge mcds lover ive better ones far worst o...</td>\n",
       "      <td>huge lover better ones far worst one ever filt...</td>\n",
       "      <td>huge lover better one far worst one ever filth...</td>\n",
       "    </tr>\n",
       "    <tr>\n",
       "      <th>1</th>\n",
       "      <td>Terrible customer service. ξI came in at 9:30p...</td>\n",
       "      <td>82</td>\n",
       "      <td>443</td>\n",
       "      <td>4.414634</td>\n",
       "      <td>33</td>\n",
       "      <td>0.402439</td>\n",
       "      <td>terrible customer service. ξi came in at 9:30p...</td>\n",
       "      <td>terrible customer service ξi came in at 930pm ...</td>\n",
       "      <td>terrible customer service ξi came 930pm stood ...</td>\n",
       "      <td>terrible customer service came 930pm stood fro...</td>\n",
       "      <td>terrible customer service came 930pm stood fro...</td>\n",
       "    </tr>\n",
       "    <tr>\n",
       "      <th>2</th>\n",
       "      <td>First they \"lost\" my order, actually they gave...</td>\n",
       "      <td>158</td>\n",
       "      <td>860</td>\n",
       "      <td>4.449367</td>\n",
       "      <td>76</td>\n",
       "      <td>0.481013</td>\n",
       "      <td>first they \"lost\" my order, actually they gave...</td>\n",
       "      <td>first they lost my order actually they gave it...</td>\n",
       "      <td>first lost order actually gave someone one els...</td>\n",
       "      <td>first lost actually gave someone one else took...</td>\n",
       "      <td>first lost actually gave someone one else took...</td>\n",
       "    </tr>\n",
       "    <tr>\n",
       "      <th>3</th>\n",
       "      <td>I see I'm not the only one giving 1 star. Only...</td>\n",
       "      <td>24</td>\n",
       "      <td>107</td>\n",
       "      <td>3.500000</td>\n",
       "      <td>10</td>\n",
       "      <td>0.416667</td>\n",
       "      <td>i see i'm not the only one giving 1 star. only...</td>\n",
       "      <td>i see im not the only one giving 1 star only b...</td>\n",
       "      <td>see im one giving 1 star 25 star thats need say</td>\n",
       "      <td>see one giving 1 star 25 star thats need say</td>\n",
       "      <td>see one giving 1 star 25 star thats need say</td>\n",
       "    </tr>\n",
       "    <tr>\n",
       "      <th>4</th>\n",
       "      <td>Well, it's McDonald's, so you know what the fo...</td>\n",
       "      <td>148</td>\n",
       "      <td>793</td>\n",
       "      <td>4.364865</td>\n",
       "      <td>60</td>\n",
       "      <td>0.405405</td>\n",
       "      <td>well, it's mcdonald's, so you know what the fo...</td>\n",
       "      <td>well its mcdonalds so you know what the food i...</td>\n",
       "      <td>well mcdonalds know food ξthis review reflects...</td>\n",
       "      <td>well know ξthis review reflects solely poor se...</td>\n",
       "      <td>well know ξthis review reflects solely poor se...</td>\n",
       "    </tr>\n",
       "  </tbody>\n",
       "</table>\n",
       "</div>"
      ],
      "text/plain": [
       "                                              review  word_count  char_count  \\\n",
       "0  I'm not a huge mcds lover, but I've been to be...          50         260   \n",
       "1  Terrible customer service. ξI came in at 9:30p...          82         443   \n",
       "2  First they \"lost\" my order, actually they gave...         158         860   \n",
       "3  I see I'm not the only one giving 1 star. Only...          24         107   \n",
       "4  Well, it's McDonald's, so you know what the fo...         148         793   \n",
       "\n",
       "   avg_word_len  stop_words_count  stopword_rate  \\\n",
       "0      4.220000                19       0.380000   \n",
       "1      4.414634                33       0.402439   \n",
       "2      4.449367                76       0.481013   \n",
       "3      3.500000                10       0.416667   \n",
       "4      4.364865                60       0.405405   \n",
       "\n",
       "                                           lowercase  \\\n",
       "0  i'm not a huge mcds lover, but i've been to be...   \n",
       "1  terrible customer service. ξi came in at 9:30p...   \n",
       "2  first they \"lost\" my order, actually they gave...   \n",
       "3  i see i'm not the only one giving 1 star. only...   \n",
       "4  well, it's mcdonald's, so you know what the fo...   \n",
       "\n",
       "                                         punctuation  \\\n",
       "0  im not a huge mcds lover but ive been to bette...   \n",
       "1  terrible customer service ξi came in at 930pm ...   \n",
       "2  first they lost my order actually they gave it...   \n",
       "3  i see im not the only one giving 1 star only b...   \n",
       "4  well its mcdonalds so you know what the food i...   \n",
       "\n",
       "                                           stopwords  \\\n",
       "0  im huge mcds lover ive better ones far worst o...   \n",
       "1  terrible customer service ξi came 930pm stood ...   \n",
       "2  first lost order actually gave someone one els...   \n",
       "3    see im one giving 1 star 25 star thats need say   \n",
       "4  well mcdonalds know food ξthis review reflects...   \n",
       "\n",
       "                                           clean_rev  \\\n",
       "0  huge lover better ones far worst one ever filt...   \n",
       "1  terrible customer service came 930pm stood fro...   \n",
       "2  first lost actually gave someone one else took...   \n",
       "3       see one giving 1 star 25 star thats need say   \n",
       "4  well know ξthis review reflects solely poor se...   \n",
       "\n",
       "                                          lemmatized  \n",
       "0  huge lover better one far worst one ever filth...  \n",
       "1  terrible customer service came 930pm stood fro...  \n",
       "2  first lost actually gave someone one else took...  \n",
       "3       see one giving 1 star 25 star thats need say  \n",
       "4  well know ξthis review reflects solely poor se...  "
      ]
     },
     "execution_count": 533,
     "metadata": {},
     "output_type": "execute_result"
    }
   ],
   "source": [
    "mcd.head()"
   ]
  },
  {
   "cell_type": "markdown",
   "id": "c11b5a7e",
   "metadata": {},
   "source": [
    "## Sentiment Analysis"
   ]
  },
  {
   "cell_type": "code",
   "execution_count": 534,
   "id": "3559a62e",
   "metadata": {},
   "outputs": [],
   "source": [
    "mcd['polarity'] = mcd['lemmatized'].apply(lambda x: TextBlob(x).sentiment[0])"
   ]
  },
  {
   "cell_type": "code",
   "execution_count": 535,
   "id": "1a0bc61a",
   "metadata": {},
   "outputs": [],
   "source": [
    "mcd['subjectivity'] = mcd['lemmatized'].apply(lambda x: TextBlob(x).sentiment[1])"
   ]
  },
  {
   "cell_type": "code",
   "execution_count": 536,
   "id": "443d1645",
   "metadata": {},
   "outputs": [
    {
     "data": {
      "text/html": [
       "<div>\n",
       "<style scoped>\n",
       "    .dataframe tbody tr th:only-of-type {\n",
       "        vertical-align: middle;\n",
       "    }\n",
       "\n",
       "    .dataframe tbody tr th {\n",
       "        vertical-align: top;\n",
       "    }\n",
       "\n",
       "    .dataframe thead th {\n",
       "        text-align: right;\n",
       "    }\n",
       "</style>\n",
       "<table border=\"1\" class=\"dataframe\">\n",
       "  <thead>\n",
       "    <tr style=\"text-align: right;\">\n",
       "      <th></th>\n",
       "      <th>review</th>\n",
       "      <th>word_count</th>\n",
       "      <th>char_count</th>\n",
       "      <th>avg_word_len</th>\n",
       "      <th>stop_words_count</th>\n",
       "      <th>stopword_rate</th>\n",
       "      <th>lowercase</th>\n",
       "      <th>punctuation</th>\n",
       "      <th>stopwords</th>\n",
       "      <th>clean_rev</th>\n",
       "      <th>lemmatized</th>\n",
       "      <th>polarity</th>\n",
       "      <th>subjectivity</th>\n",
       "    </tr>\n",
       "  </thead>\n",
       "  <tbody>\n",
       "    <tr>\n",
       "      <th>0</th>\n",
       "      <td>I'm not a huge mcds lover, but I've been to be...</td>\n",
       "      <td>50</td>\n",
       "      <td>260</td>\n",
       "      <td>4.220000</td>\n",
       "      <td>19</td>\n",
       "      <td>0.380000</td>\n",
       "      <td>i'm not a huge mcds lover, but i've been to be...</td>\n",
       "      <td>im not a huge mcds lover but ive been to bette...</td>\n",
       "      <td>im huge mcds lover ive better ones far worst o...</td>\n",
       "      <td>huge lover better ones far worst one ever filt...</td>\n",
       "      <td>huge lover better one far worst one ever filth...</td>\n",
       "      <td>-0.242857</td>\n",
       "      <td>0.828571</td>\n",
       "    </tr>\n",
       "    <tr>\n",
       "      <th>1</th>\n",
       "      <td>Terrible customer service. ξI came in at 9:30p...</td>\n",
       "      <td>82</td>\n",
       "      <td>443</td>\n",
       "      <td>4.414634</td>\n",
       "      <td>33</td>\n",
       "      <td>0.402439</td>\n",
       "      <td>terrible customer service. ξi came in at 9:30p...</td>\n",
       "      <td>terrible customer service ξi came in at 930pm ...</td>\n",
       "      <td>terrible customer service ξi came 930pm stood ...</td>\n",
       "      <td>terrible customer service came 930pm stood fro...</td>\n",
       "      <td>terrible customer service came 930pm stood fro...</td>\n",
       "      <td>-0.257143</td>\n",
       "      <td>0.521429</td>\n",
       "    </tr>\n",
       "    <tr>\n",
       "      <th>2</th>\n",
       "      <td>First they \"lost\" my order, actually they gave...</td>\n",
       "      <td>158</td>\n",
       "      <td>860</td>\n",
       "      <td>4.449367</td>\n",
       "      <td>76</td>\n",
       "      <td>0.481013</td>\n",
       "      <td>first they \"lost\" my order, actually they gave...</td>\n",
       "      <td>first they lost my order actually they gave it...</td>\n",
       "      <td>first lost order actually gave someone one els...</td>\n",
       "      <td>first lost actually gave someone one else took...</td>\n",
       "      <td>first lost actually gave someone one else took...</td>\n",
       "      <td>0.093750</td>\n",
       "      <td>0.529167</td>\n",
       "    </tr>\n",
       "    <tr>\n",
       "      <th>3</th>\n",
       "      <td>I see I'm not the only one giving 1 star. Only...</td>\n",
       "      <td>24</td>\n",
       "      <td>107</td>\n",
       "      <td>3.500000</td>\n",
       "      <td>10</td>\n",
       "      <td>0.416667</td>\n",
       "      <td>i see i'm not the only one giving 1 star. only...</td>\n",
       "      <td>i see im not the only one giving 1 star only b...</td>\n",
       "      <td>see im one giving 1 star 25 star thats need say</td>\n",
       "      <td>see one giving 1 star 25 star thats need say</td>\n",
       "      <td>see one giving 1 star 25 star thats need say</td>\n",
       "      <td>0.000000</td>\n",
       "      <td>0.000000</td>\n",
       "    </tr>\n",
       "    <tr>\n",
       "      <th>4</th>\n",
       "      <td>Well, it's McDonald's, so you know what the fo...</td>\n",
       "      <td>148</td>\n",
       "      <td>793</td>\n",
       "      <td>4.364865</td>\n",
       "      <td>60</td>\n",
       "      <td>0.405405</td>\n",
       "      <td>well, it's mcdonald's, so you know what the fo...</td>\n",
       "      <td>well its mcdonalds so you know what the food i...</td>\n",
       "      <td>well mcdonalds know food ξthis review reflects...</td>\n",
       "      <td>well know ξthis review reflects solely poor se...</td>\n",
       "      <td>well know ξthis review reflects solely poor se...</td>\n",
       "      <td>0.035431</td>\n",
       "      <td>0.367599</td>\n",
       "    </tr>\n",
       "  </tbody>\n",
       "</table>\n",
       "</div>"
      ],
      "text/plain": [
       "                                              review  word_count  char_count  \\\n",
       "0  I'm not a huge mcds lover, but I've been to be...          50         260   \n",
       "1  Terrible customer service. ξI came in at 9:30p...          82         443   \n",
       "2  First they \"lost\" my order, actually they gave...         158         860   \n",
       "3  I see I'm not the only one giving 1 star. Only...          24         107   \n",
       "4  Well, it's McDonald's, so you know what the fo...         148         793   \n",
       "\n",
       "   avg_word_len  stop_words_count  stopword_rate  \\\n",
       "0      4.220000                19       0.380000   \n",
       "1      4.414634                33       0.402439   \n",
       "2      4.449367                76       0.481013   \n",
       "3      3.500000                10       0.416667   \n",
       "4      4.364865                60       0.405405   \n",
       "\n",
       "                                           lowercase  \\\n",
       "0  i'm not a huge mcds lover, but i've been to be...   \n",
       "1  terrible customer service. ξi came in at 9:30p...   \n",
       "2  first they \"lost\" my order, actually they gave...   \n",
       "3  i see i'm not the only one giving 1 star. only...   \n",
       "4  well, it's mcdonald's, so you know what the fo...   \n",
       "\n",
       "                                         punctuation  \\\n",
       "0  im not a huge mcds lover but ive been to bette...   \n",
       "1  terrible customer service ξi came in at 930pm ...   \n",
       "2  first they lost my order actually they gave it...   \n",
       "3  i see im not the only one giving 1 star only b...   \n",
       "4  well its mcdonalds so you know what the food i...   \n",
       "\n",
       "                                           stopwords  \\\n",
       "0  im huge mcds lover ive better ones far worst o...   \n",
       "1  terrible customer service ξi came 930pm stood ...   \n",
       "2  first lost order actually gave someone one els...   \n",
       "3    see im one giving 1 star 25 star thats need say   \n",
       "4  well mcdonalds know food ξthis review reflects...   \n",
       "\n",
       "                                           clean_rev  \\\n",
       "0  huge lover better ones far worst one ever filt...   \n",
       "1  terrible customer service came 930pm stood fro...   \n",
       "2  first lost actually gave someone one else took...   \n",
       "3       see one giving 1 star 25 star thats need say   \n",
       "4  well know ξthis review reflects solely poor se...   \n",
       "\n",
       "                                          lemmatized  polarity  subjectivity  \n",
       "0  huge lover better one far worst one ever filth... -0.242857      0.828571  \n",
       "1  terrible customer service came 930pm stood fro... -0.257143      0.521429  \n",
       "2  first lost actually gave someone one else took...  0.093750      0.529167  \n",
       "3       see one giving 1 star 25 star thats need say  0.000000      0.000000  \n",
       "4  well know ξthis review reflects solely poor se...  0.035431      0.367599  "
      ]
     },
     "execution_count": 536,
     "metadata": {},
     "output_type": "execute_result"
    }
   ],
   "source": [
    "mcd.head()"
   ]
  },
  {
   "cell_type": "code",
   "execution_count": 537,
   "id": "1fcb781c",
   "metadata": {},
   "outputs": [
    {
     "name": "stdout",
     "output_type": "stream",
     "text": [
      "review 0\n",
      "word_count 0\n",
      "char_count 0\n",
      "avg_word_len 0\n",
      "stop_words_count 0\n",
      "stopword_rate 0\n",
      "lowercase 0\n",
      "punctuation 0\n",
      "stopwords 0\n",
      "clean_rev 0\n",
      "lemmatized 0\n",
      "polarity 0\n",
      "subjectivity 0\n"
     ]
    }
   ],
   "source": [
    "for col in mcd.columns: #to check if there are any null values in the df\n",
    "    print(col, mcd[col].isnull().sum())"
   ]
  },
  {
   "cell_type": "code",
   "execution_count": 538,
   "id": "d9a6781d",
   "metadata": {},
   "outputs": [],
   "source": [
    "mcd.drop(['lowercase','punctuation','stopwords','clean_rev'], axis=1, inplace=True)"
   ]
  },
  {
   "cell_type": "code",
   "execution_count": 539,
   "id": "d0d6997a",
   "metadata": {},
   "outputs": [],
   "source": [
    "#mcd.head()"
   ]
  },
  {
   "cell_type": "code",
   "execution_count": 540,
   "id": "9bde7698",
   "metadata": {},
   "outputs": [
    {
     "data": {
      "text/html": [
       "<div>\n",
       "<style scoped>\n",
       "    .dataframe tbody tr th:only-of-type {\n",
       "        vertical-align: middle;\n",
       "    }\n",
       "\n",
       "    .dataframe tbody tr th {\n",
       "        vertical-align: top;\n",
       "    }\n",
       "\n",
       "    .dataframe thead th {\n",
       "        text-align: right;\n",
       "    }\n",
       "</style>\n",
       "<table border=\"1\" class=\"dataframe\">\n",
       "  <thead>\n",
       "    <tr style=\"text-align: right;\">\n",
       "      <th></th>\n",
       "      <th>review</th>\n",
       "      <th>word_count</th>\n",
       "      <th>char_count</th>\n",
       "      <th>avg_word_len</th>\n",
       "      <th>stop_words_count</th>\n",
       "      <th>stopword_rate</th>\n",
       "      <th>lemmatized</th>\n",
       "      <th>polarity</th>\n",
       "      <th>subjectivity</th>\n",
       "    </tr>\n",
       "  </thead>\n",
       "  <tbody>\n",
       "    <tr>\n",
       "      <th>318</th>\n",
       "      <td>They are making this the worst Vegas experienc...</td>\n",
       "      <td>27</td>\n",
       "      <td>179</td>\n",
       "      <td>5.666667</td>\n",
       "      <td>7</td>\n",
       "      <td>0.259259</td>\n",
       "      <td>making worst vega experience towing ξ300 dolla...</td>\n",
       "      <td>-1.0</td>\n",
       "      <td>1.00</td>\n",
       "    </tr>\n",
       "    <tr>\n",
       "      <th>707</th>\n",
       "      <td>horrible.... that is all. Do not go there.</td>\n",
       "      <td>8</td>\n",
       "      <td>42</td>\n",
       "      <td>4.375000</td>\n",
       "      <td>3</td>\n",
       "      <td>0.375000</td>\n",
       "      <td>horrible go</td>\n",
       "      <td>-1.0</td>\n",
       "      <td>1.00</td>\n",
       "    </tr>\n",
       "    <tr>\n",
       "      <th>727</th>\n",
       "      <td>Worst service ever avoid this place.</td>\n",
       "      <td>6</td>\n",
       "      <td>36</td>\n",
       "      <td>5.166667</td>\n",
       "      <td>1</td>\n",
       "      <td>0.166667</td>\n",
       "      <td>worst service ever avoid place</td>\n",
       "      <td>-1.0</td>\n",
       "      <td>1.00</td>\n",
       "    </tr>\n",
       "    <tr>\n",
       "      <th>751</th>\n",
       "      <td>Worst McDonalds I have ever been. I hope I can...</td>\n",
       "      <td>14</td>\n",
       "      <td>65</td>\n",
       "      <td>3.714286</td>\n",
       "      <td>3</td>\n",
       "      <td>0.214286</td>\n",
       "      <td>worst ever hope give zero star</td>\n",
       "      <td>-1.0</td>\n",
       "      <td>1.00</td>\n",
       "    </tr>\n",
       "    <tr>\n",
       "      <th>341</th>\n",
       "      <td>Truly disgusting place.</td>\n",
       "      <td>3</td>\n",
       "      <td>23</td>\n",
       "      <td>7.000000</td>\n",
       "      <td>0</td>\n",
       "      <td>0.000000</td>\n",
       "      <td>truly disgusting place</td>\n",
       "      <td>-1.0</td>\n",
       "      <td>1.00</td>\n",
       "    </tr>\n",
       "    <tr>\n",
       "      <th>...</th>\n",
       "      <td>...</td>\n",
       "      <td>...</td>\n",
       "      <td>...</td>\n",
       "      <td>...</td>\n",
       "      <td>...</td>\n",
       "      <td>...</td>\n",
       "      <td>...</td>\n",
       "      <td>...</td>\n",
       "      <td>...</td>\n",
       "    </tr>\n",
       "    <tr>\n",
       "      <th>1256</th>\n",
       "      <td>Do You want a close-ghetto experience?! Welcom...</td>\n",
       "      <td>9</td>\n",
       "      <td>58</td>\n",
       "      <td>5.555556</td>\n",
       "      <td>2</td>\n",
       "      <td>0.222222</td>\n",
       "      <td>want closeghetto experience welcome mcsuck</td>\n",
       "      <td>0.8</td>\n",
       "      <td>0.90</td>\n",
       "    </tr>\n",
       "    <tr>\n",
       "      <th>586</th>\n",
       "      <td>This has to be the slowest McDonald's on earth...</td>\n",
       "      <td>26</td>\n",
       "      <td>131</td>\n",
       "      <td>4.076923</td>\n",
       "      <td>11</td>\n",
       "      <td>0.423077</td>\n",
       "      <td>slowest earth 10 minute 2 happy meal make happ...</td>\n",
       "      <td>0.8</td>\n",
       "      <td>1.00</td>\n",
       "    </tr>\n",
       "    <tr>\n",
       "      <th>626</th>\n",
       "      <td>Great place to park when you're going to The O...</td>\n",
       "      <td>12</td>\n",
       "      <td>71</td>\n",
       "      <td>5.000000</td>\n",
       "      <td>5</td>\n",
       "      <td>0.416667</td>\n",
       "      <td>great place park youre going observatory roscoes</td>\n",
       "      <td>0.8</td>\n",
       "      <td>0.75</td>\n",
       "    </tr>\n",
       "    <tr>\n",
       "      <th>911</th>\n",
       "      <td>What can we expect from McDonalds LOL LOL LOL!</td>\n",
       "      <td>9</td>\n",
       "      <td>46</td>\n",
       "      <td>4.222222</td>\n",
       "      <td>3</td>\n",
       "      <td>0.333333</td>\n",
       "      <td>expect lol lol lol</td>\n",
       "      <td>0.8</td>\n",
       "      <td>0.70</td>\n",
       "    </tr>\n",
       "    <tr>\n",
       "      <th>76</th>\n",
       "      <td>Best McDonalds ice cream is here!</td>\n",
       "      <td>6</td>\n",
       "      <td>33</td>\n",
       "      <td>4.666667</td>\n",
       "      <td>1</td>\n",
       "      <td>0.166667</td>\n",
       "      <td>best ice cream</td>\n",
       "      <td>1.0</td>\n",
       "      <td>0.30</td>\n",
       "    </tr>\n",
       "  </tbody>\n",
       "</table>\n",
       "<p>1525 rows × 9 columns</p>\n",
       "</div>"
      ],
      "text/plain": [
       "                                                 review  word_count  \\\n",
       "318   They are making this the worst Vegas experienc...          27   \n",
       "707          horrible.... that is all. Do not go there.           8   \n",
       "727                Worst service ever avoid this place.           6   \n",
       "751   Worst McDonalds I have ever been. I hope I can...          14   \n",
       "341                             Truly disgusting place.           3   \n",
       "...                                                 ...         ...   \n",
       "1256  Do You want a close-ghetto experience?! Welcom...           9   \n",
       "586   This has to be the slowest McDonald's on earth...          26   \n",
       "626   Great place to park when you're going to The O...          12   \n",
       "911      What can we expect from McDonalds LOL LOL LOL!           9   \n",
       "76                    Best McDonalds ice cream is here!           6   \n",
       "\n",
       "      char_count  avg_word_len  stop_words_count  stopword_rate  \\\n",
       "318          179      5.666667                 7       0.259259   \n",
       "707           42      4.375000                 3       0.375000   \n",
       "727           36      5.166667                 1       0.166667   \n",
       "751           65      3.714286                 3       0.214286   \n",
       "341           23      7.000000                 0       0.000000   \n",
       "...          ...           ...               ...            ...   \n",
       "1256          58      5.555556                 2       0.222222   \n",
       "586          131      4.076923                11       0.423077   \n",
       "626           71      5.000000                 5       0.416667   \n",
       "911           46      4.222222                 3       0.333333   \n",
       "76            33      4.666667                 1       0.166667   \n",
       "\n",
       "                                             lemmatized  polarity  \\\n",
       "318   making worst vega experience towing ξ300 dolla...      -1.0   \n",
       "707                                         horrible go      -1.0   \n",
       "727                      worst service ever avoid place      -1.0   \n",
       "751                      worst ever hope give zero star      -1.0   \n",
       "341                              truly disgusting place      -1.0   \n",
       "...                                                 ...       ...   \n",
       "1256         want closeghetto experience welcome mcsuck       0.8   \n",
       "586   slowest earth 10 minute 2 happy meal make happ...       0.8   \n",
       "626    great place park youre going observatory roscoes       0.8   \n",
       "911                                  expect lol lol lol       0.8   \n",
       "76                                       best ice cream       1.0   \n",
       "\n",
       "      subjectivity  \n",
       "318           1.00  \n",
       "707           1.00  \n",
       "727           1.00  \n",
       "751           1.00  \n",
       "341           1.00  \n",
       "...            ...  \n",
       "1256          0.90  \n",
       "586           1.00  \n",
       "626           0.75  \n",
       "911           0.70  \n",
       "76            0.30  \n",
       "\n",
       "[1525 rows x 9 columns]"
      ]
     },
     "execution_count": 540,
     "metadata": {},
     "output_type": "execute_result"
    }
   ],
   "source": [
    "mcd.sort_values(by = 'polarity' )"
   ]
  },
  {
   "cell_type": "code",
   "execution_count": 541,
   "id": "30762d96",
   "metadata": {},
   "outputs": [],
   "source": [
    "#mcd[mcd.Sentiment >= 0] #to display the number of +ve or -ve reviews"
   ]
  },
  {
   "cell_type": "code",
   "execution_count": 562,
   "id": "f44fd5d4",
   "metadata": {},
   "outputs": [],
   "source": [
    "doc = \" running\""
   ]
  },
  {
   "cell_type": "code",
   "execution_count": 563,
   "id": "ac547b8f",
   "metadata": {},
   "outputs": [
    {
     "data": {
      "text/plain": [
       "' running'"
      ]
     },
     "execution_count": 563,
     "metadata": {},
     "output_type": "execute_result"
    }
   ],
   "source": [
    "Word(doc).lemmatize()"
   ]
  },
  {
   "cell_type": "code",
   "execution_count": null,
   "id": "707149be",
   "metadata": {},
   "outputs": [],
   "source": []
  }
 ],
 "metadata": {
  "kernelspec": {
   "display_name": "Python 3",
   "language": "python",
   "name": "python3"
  },
  "language_info": {
   "codemirror_mode": {
    "name": "ipython",
    "version": 3
   },
   "file_extension": ".py",
   "mimetype": "text/x-python",
   "name": "python",
   "nbconvert_exporter": "python",
   "pygments_lexer": "ipython3",
   "version": "3.8.8"
  }
 },
 "nbformat": 4,
 "nbformat_minor": 5
}
