{
 "cells": [
  {
   "cell_type": "code",
   "execution_count": 2,
   "id": "6232e992",
   "metadata": {},
   "outputs": [],
   "source": [
    "#pip install newspaper3k"
   ]
  },
  {
   "cell_type": "code",
   "execution_count": 4,
   "id": "d54c974b",
   "metadata": {},
   "outputs": [],
   "source": [
    "from textblob import TextBlob\n",
    "import nltk\n",
    "from newspaper import Article"
   ]
  },
  {
   "cell_type": "code",
   "execution_count": 18,
   "id": "20fc2b3b",
   "metadata": {},
   "outputs": [],
   "source": [
    "site = 'https://www.zomato.com/gangtok/the-local-cafe-vishal-gaon/reviews'\n",
    "article = Article(site)"
   ]
  },
  {
   "cell_type": "code",
   "execution_count": 21,
   "id": "e7da021f",
   "metadata": {},
   "outputs": [
    {
     "name": "stderr",
     "output_type": "stream",
     "text": [
      "[nltk_data] Downloading package punkt to\n",
      "[nltk_data]     C:\\Users\\belin\\AppData\\Roaming\\nltk_data...\n",
      "[nltk_data]   Package punkt is already up-to-date!\n"
     ]
    }
   ],
   "source": [
    "article.download()\n",
    "article.parse()\n",
    "nltk.download('punkt')\n",
    "article.nlp()"
   ]
  },
  {
   "cell_type": "code",
   "execution_count": 22,
   "id": "fcb6085a",
   "metadata": {},
   "outputs": [
    {
     "name": "stdout",
     "output_type": "stream",
     "text": [
      "Komal 1 reviews 0 Followers Follow2 star-fill DINING 5 days agothumb-up-fill POSITIVE ambience cafe thumb-up-fill NEGATIVE pizza alle verdureSo I ordered veg pizza at The local cafe which is in new market.\n",
      "The ambiance of the cafe is really good .The veg pizza costed me Rs240/- and its totally not worth it the taste was not at all good.\n",
      "Must give it a try ❤️❤️0 Votes for helpful , 0 Commentsthumb-up Helpful chat Comment share ShareSampurna Ray 8 reviews 36 Followers Follow4 star-fill DINING 6 months agothumb-up-fill POSITIVE quantity worth the money ambience staff experienceAmazing experience!\n",
      "+ 1 Photo(s)0 Votes for helpful , 0 Commentsthumb-up Helpful chat Comment share SharePratik Arora 3 reviews 0 Followers Follow1 star-fill DINING 7 months agothumb-up-fill NEGATIVE foodThis place might be awesome for tourists.Owner is super rude.\n",
      "Won't recommend this place ..0 Votes for helpful , 0 Comments\n"
     ]
    }
   ],
   "source": [
    "text = article.summary\n",
    "print(text)"
   ]
  },
  {
   "cell_type": "code",
   "execution_count": 23,
   "id": "05d2c5dc",
   "metadata": {},
   "outputs": [
    {
     "name": "stdout",
     "output_type": "stream",
     "text": [
      "0.2037878787878788\n"
     ]
    }
   ],
   "source": [
    "obj = TextBlob(text)\n",
    "print(obj.sentiment.polarity)"
   ]
  },
  {
   "cell_type": "code",
   "execution_count": null,
   "id": "73af44cf",
   "metadata": {},
   "outputs": [],
   "source": []
  }
 ],
 "metadata": {
  "kernelspec": {
   "display_name": "Python 3",
   "language": "python",
   "name": "python3"
  },
  "language_info": {
   "codemirror_mode": {
    "name": "ipython",
    "version": 3
   },
   "file_extension": ".py",
   "mimetype": "text/x-python",
   "name": "python",
   "nbconvert_exporter": "python",
   "pygments_lexer": "ipython3",
   "version": "3.8.8"
  }
 },
 "nbformat": 4,
 "nbformat_minor": 5
}
