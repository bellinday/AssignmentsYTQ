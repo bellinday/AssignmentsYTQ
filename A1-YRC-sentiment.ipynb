{
 "cells": [
  {
   "cell_type": "code",
   "execution_count": 1,
   "id": "85cf0321",
   "metadata": {},
   "outputs": [],
   "source": [
    "from textblob import TextBlob"
   ]
  },
  {
   "cell_type": "code",
   "execution_count": 5,
   "id": "b345161e",
   "metadata": {},
   "outputs": [],
   "source": [
    "book = TextBlob(\"i do not like how the toppings on pizzas are of varying colours\")"
   ]
  },
  {
   "cell_type": "code",
   "execution_count": 6,
   "id": "25d982f5",
   "metadata": {},
   "outputs": [
    {
     "data": {
      "text/plain": [
       "[('i', 'NNS'),\n",
       " ('do', 'VBP'),\n",
       " ('not', 'RB'),\n",
       " ('like', 'VB'),\n",
       " ('how', 'WRB'),\n",
       " ('the', 'DT'),\n",
       " ('toppings', 'NNS'),\n",
       " ('on', 'IN'),\n",
       " ('pizzas', 'NN'),\n",
       " ('are', 'VBP'),\n",
       " ('of', 'IN'),\n",
       " ('varying', 'VBG'),\n",
       " ('colours', 'NNS')]"
      ]
     },
     "execution_count": 6,
     "metadata": {},
     "output_type": "execute_result"
    }
   ],
   "source": [
    "book.tags"
   ]
  },
  {
   "cell_type": "code",
   "execution_count": 7,
   "id": "946dba46",
   "metadata": {},
   "outputs": [
    {
     "data": {
      "text/plain": [
       "WordList(['i', 'do', 'not', 'like', 'how', 'the', 'toppings', 'on', 'pizzas', 'are', 'of', 'varying', 'colours'])"
      ]
     },
     "execution_count": 7,
     "metadata": {},
     "output_type": "execute_result"
    }
   ],
   "source": [
    "book.words"
   ]
  },
  {
   "cell_type": "code",
   "execution_count": 10,
   "id": "c3ec224a",
   "metadata": {},
   "outputs": [
    {
     "name": "stdout",
     "output_type": "stream",
     "text": [
      "Sentiment(polarity=0.0, subjectivity=0.0)\n"
     ]
    }
   ],
   "source": [
    "print(format(book.sentiment))"
   ]
  },
  {
   "cell_type": "code",
   "execution_count": null,
   "id": "5b02c4ee",
   "metadata": {},
   "outputs": [],
   "source": []
  }
 ],
 "metadata": {
  "kernelspec": {
   "display_name": "Python 3",
   "language": "python",
   "name": "python3"
  },
  "language_info": {
   "codemirror_mode": {
    "name": "ipython",
    "version": 3
   },
   "file_extension": ".py",
   "mimetype": "text/x-python",
   "name": "python",
   "nbconvert_exporter": "python",
   "pygments_lexer": "ipython3",
   "version": "3.8.8"
  }
 },
 "nbformat": 4,
 "nbformat_minor": 5
}
