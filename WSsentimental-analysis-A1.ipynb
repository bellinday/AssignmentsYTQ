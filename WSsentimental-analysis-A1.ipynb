{
 "cells": [
  {
   "cell_type": "code",
   "execution_count": 5,
   "id": "6232e992",
   "metadata": {},
   "outputs": [],
   "source": [
    "#pip install newspaper3k"
   ]
  },
  {
   "cell_type": "code",
   "execution_count": 6,
   "id": "d54c974b",
   "metadata": {},
   "outputs": [],
   "source": [
    "from textblob import TextBlob\n",
    "import nltk\n",
    "from newspaper import Article"
   ]
  },
  {
   "cell_type": "code",
   "execution_count": 10,
   "id": "20fc2b3b",
   "metadata": {},
   "outputs": [],
   "source": [
    "site = 'https://www.zomato.com/chennai/shree-mithai-chetpet/reviews'\n",
    "article = Article(site)"
   ]
  },
  {
   "cell_type": "code",
   "execution_count": 14,
   "id": "e7da021f",
   "metadata": {},
   "outputs": [],
   "source": [
    "article.download()\n",
    "article.parse()\n",
    "#nltk.download('punkt')\n",
    "article.nlp()"
   ]
  },
  {
   "cell_type": "code",
   "execution_count": 12,
   "id": "fcb6085a",
   "metadata": {},
   "outputs": [
    {
     "name": "stdout",
     "output_type": "stream",
     "text": [
      "Sree Nidhi 40 reviews 5 Followers Follow4 star-fill DELIVERY 21 hours agohad good pav baji and brownie milkshake.. worth for the price.. give a try.. u would love it0 Votes for helpful , 0 Commentsthumb-up Helpful chat Comment share ShareAbdul Kareem 1 reviews 0 Followers Follow5 star-fill DELIVERY yesterdaygood taste and hygiene0 Votes for helpful , 0 Commentsthumb-up Helpful chat Comment share SharePekka Boo 2 reviews 0 Followers Follow5 star-fill DINING 3 days agothumb-up-fill POSITIVE chocolate truffle cake bhel puri valet service quantity chole bhature student crowd delivery person good value best food under best bud... contactless delivery0 Votes for helpful , 0 Commentsthumb-up Helpful chat Comment share SharePekka Boo 2 reviews 0 Followers Follow5 star-fill DELIVERY 3 days agothumb-up-fill POSITIVE great portions katori chaat price quantity tamper proof packaging best food under best bud... good value chole bhature perfect presentation value for money0 Votes for helpful , 0 Commentsthumb-up Helpful chat Comment share ShareAishwarya Mathur 7 reviews 0 Followers Follow2 star-fill DELIVERY 4 days agoWe ordered Dahi Papdi Chaat and instead got Raj Kachori (picture)!!\n",
      "If you didn't have the item available, you should have informed us and we could have changed it to a dish of our liking.\n",
      "We are really disappointed.\n",
      "Also, the food reached us cold!\n",
      "0 Votes for helpful , 1 Comment\n"
     ]
    }
   ],
   "source": [
    "text = article.summary\n",
    "print(text)"
   ]
  },
  {
   "cell_type": "code",
   "execution_count": 13,
   "id": "05d2c5dc",
   "metadata": {},
   "outputs": [
    {
     "name": "stdout",
     "output_type": "stream",
     "text": [
      "0.5034090909090909\n"
     ]
    }
   ],
   "source": [
    "obj = TextBlob(text)\n",
    "print(obj.sentiment.polarity)"
   ]
  },
  {
   "cell_type": "code",
   "execution_count": null,
   "id": "73af44cf",
   "metadata": {},
   "outputs": [],
   "source": []
  }
 ],
 "metadata": {
  "kernelspec": {
   "display_name": "Python 3",
   "language": "python",
   "name": "python3"
  },
  "language_info": {
   "codemirror_mode": {
    "name": "ipython",
    "version": 3
   },
   "file_extension": ".py",
   "mimetype": "text/x-python",
   "name": "python",
   "nbconvert_exporter": "python",
   "pygments_lexer": "ipython3",
   "version": "3.8.8"
  }
 },
 "nbformat": 4,
 "nbformat_minor": 5
}
