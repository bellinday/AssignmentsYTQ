{
 "cells": [
  {
   "cell_type": "code",
   "execution_count": 36,
   "id": "f64fdb71",
   "metadata": {},
   "outputs": [],
   "source": [
    "import pandas as pd\n",
    "from textblob import TextBlob\n",
    "import numpy as np\n",
    "import nltk\n",
    "\n",
    "#nltk.download('stopwords')\n",
    "from nltk.corpus import stopwords\n",
    "\n",
    "\n"
   ]
  },
  {
   "cell_type": "code",
   "execution_count": 37,
   "id": "ed5f5ed5",
   "metadata": {},
   "outputs": [],
   "source": [
    "rev = pd.read_csv(r\"C:\\Users\\belin\\Desktop\\Research\\Reviews.csv\")"
   ]
  },
  {
   "cell_type": "code",
   "execution_count": 38,
   "id": "68db618d",
   "metadata": {},
   "outputs": [
    {
     "data": {
      "text/html": [
       "<div>\n",
       "<style scoped>\n",
       "    .dataframe tbody tr th:only-of-type {\n",
       "        vertical-align: middle;\n",
       "    }\n",
       "\n",
       "    .dataframe tbody tr th {\n",
       "        vertical-align: top;\n",
       "    }\n",
       "\n",
       "    .dataframe thead th {\n",
       "        text-align: right;\n",
       "    }\n",
       "</style>\n",
       "<table border=\"1\" class=\"dataframe\">\n",
       "  <thead>\n",
       "    <tr style=\"text-align: right;\">\n",
       "      <th></th>\n",
       "      <th>Id</th>\n",
       "      <th>ProductId</th>\n",
       "      <th>UserId</th>\n",
       "      <th>ProfileName</th>\n",
       "      <th>HelpfulnessNumerator</th>\n",
       "      <th>HelpfulnessDenominator</th>\n",
       "      <th>Score</th>\n",
       "      <th>Time</th>\n",
       "      <th>Summary</th>\n",
       "      <th>Text</th>\n",
       "    </tr>\n",
       "  </thead>\n",
       "  <tbody>\n",
       "    <tr>\n",
       "      <th>0</th>\n",
       "      <td>1</td>\n",
       "      <td>B001E4KFG0</td>\n",
       "      <td>A3SGXH7AUHU8GW</td>\n",
       "      <td>delmartian</td>\n",
       "      <td>1</td>\n",
       "      <td>1</td>\n",
       "      <td>5</td>\n",
       "      <td>1303862400</td>\n",
       "      <td>Good Quality Dog Food</td>\n",
       "      <td>I have bought several of the Vitality canned d...</td>\n",
       "    </tr>\n",
       "    <tr>\n",
       "      <th>1</th>\n",
       "      <td>2</td>\n",
       "      <td>B00813GRG4</td>\n",
       "      <td>A1D87F6ZCVE5NK</td>\n",
       "      <td>dll pa</td>\n",
       "      <td>0</td>\n",
       "      <td>0</td>\n",
       "      <td>1</td>\n",
       "      <td>1346976000</td>\n",
       "      <td>Not as Advertised</td>\n",
       "      <td>Product arrived labeled as Jumbo Salted Peanut...</td>\n",
       "    </tr>\n",
       "    <tr>\n",
       "      <th>2</th>\n",
       "      <td>3</td>\n",
       "      <td>B000LQOCH0</td>\n",
       "      <td>ABXLMWJIXXAIN</td>\n",
       "      <td>Natalia Corres \"Natalia Corres\"</td>\n",
       "      <td>1</td>\n",
       "      <td>1</td>\n",
       "      <td>4</td>\n",
       "      <td>1219017600</td>\n",
       "      <td>\"Delight\" says it all</td>\n",
       "      <td>This is a confection that has been around a fe...</td>\n",
       "    </tr>\n",
       "    <tr>\n",
       "      <th>3</th>\n",
       "      <td>4</td>\n",
       "      <td>B000UA0QIQ</td>\n",
       "      <td>A395BORC6FGVXV</td>\n",
       "      <td>Karl</td>\n",
       "      <td>3</td>\n",
       "      <td>3</td>\n",
       "      <td>2</td>\n",
       "      <td>1307923200</td>\n",
       "      <td>Cough Medicine</td>\n",
       "      <td>If you are looking for the secret ingredient i...</td>\n",
       "    </tr>\n",
       "    <tr>\n",
       "      <th>4</th>\n",
       "      <td>5</td>\n",
       "      <td>B006K2ZZ7K</td>\n",
       "      <td>A1UQRSCLF8GW1T</td>\n",
       "      <td>Michael D. Bigham \"M. Wassir\"</td>\n",
       "      <td>0</td>\n",
       "      <td>0</td>\n",
       "      <td>5</td>\n",
       "      <td>1350777600</td>\n",
       "      <td>Great taffy</td>\n",
       "      <td>Great taffy at a great price.  There was a wid...</td>\n",
       "    </tr>\n",
       "  </tbody>\n",
       "</table>\n",
       "</div>"
      ],
      "text/plain": [
       "   Id   ProductId          UserId                      ProfileName  \\\n",
       "0   1  B001E4KFG0  A3SGXH7AUHU8GW                       delmartian   \n",
       "1   2  B00813GRG4  A1D87F6ZCVE5NK                           dll pa   \n",
       "2   3  B000LQOCH0   ABXLMWJIXXAIN  Natalia Corres \"Natalia Corres\"   \n",
       "3   4  B000UA0QIQ  A395BORC6FGVXV                             Karl   \n",
       "4   5  B006K2ZZ7K  A1UQRSCLF8GW1T    Michael D. Bigham \"M. Wassir\"   \n",
       "\n",
       "   HelpfulnessNumerator  HelpfulnessDenominator  Score        Time  \\\n",
       "0                     1                       1      5  1303862400   \n",
       "1                     0                       0      1  1346976000   \n",
       "2                     1                       1      4  1219017600   \n",
       "3                     3                       3      2  1307923200   \n",
       "4                     0                       0      5  1350777600   \n",
       "\n",
       "                 Summary                                               Text  \n",
       "0  Good Quality Dog Food  I have bought several of the Vitality canned d...  \n",
       "1      Not as Advertised  Product arrived labeled as Jumbo Salted Peanut...  \n",
       "2  \"Delight\" says it all  This is a confection that has been around a fe...  \n",
       "3         Cough Medicine  If you are looking for the secret ingredient i...  \n",
       "4            Great taffy  Great taffy at a great price.  There was a wid...  "
      ]
     },
     "execution_count": 38,
     "metadata": {},
     "output_type": "execute_result"
    }
   ],
   "source": [
    "rev.head()"
   ]
  },
  {
   "cell_type": "code",
   "execution_count": 39,
   "id": "f4bcab2c",
   "metadata": {},
   "outputs": [
    {
     "data": {
      "text/plain": [
       "(568454, 10)"
      ]
     },
     "execution_count": 39,
     "metadata": {},
     "output_type": "execute_result"
    }
   ],
   "source": [
    "rev.shape"
   ]
  },
  {
   "cell_type": "code",
   "execution_count": 40,
   "id": "5d25d830",
   "metadata": {},
   "outputs": [
    {
     "data": {
      "text/plain": [
       "pandas.core.frame.DataFrame"
      ]
     },
     "execution_count": 40,
     "metadata": {},
     "output_type": "execute_result"
    }
   ],
   "source": [
    "type(rev)"
   ]
  },
  {
   "cell_type": "code",
   "execution_count": 41,
   "id": "f3ed44e5",
   "metadata": {},
   "outputs": [],
   "source": [
    "to_drop = ['Id',\n",
    "          'ProductId',\n",
    "          'UserId',\n",
    "          'ProfileName',\n",
    "          'HelpfulnessNumerator',\n",
    "          'HelpfulnessDenominator',\n",
    "          'Score',\n",
    "          'Time',\n",
    "          'Summary']"
   ]
  },
  {
   "cell_type": "code",
   "execution_count": 42,
   "id": "482b5d6a",
   "metadata": {},
   "outputs": [],
   "source": [
    "rev.drop(to_drop, inplace=True, axis=1)"
   ]
  },
  {
   "cell_type": "code",
   "execution_count": 51,
   "id": "25267a09",
   "metadata": {},
   "outputs": [
    {
     "data": {
      "text/plain": [
       "'This is a confection that has been around a few centuries.  It is a light, pillowy citrus gelatin with nuts - in this case Filberts. And it is cut into tiny squares and then liberally coated with powdered sugar.  And it is a tiny mouthful of heaven.  Not too chewy, and very flavorful.  I highly recommend this yummy treat.  If you are familiar with the story of C.S. Lewis\\' \"The Lion, The Witch, and The Wardrobe\" - this is the treat that seduces Edmund into selling out his Brother and Sisters to the Witch.'"
      ]
     },
     "execution_count": 51,
     "metadata": {},
     "output_type": "execute_result"
    }
   ],
   "source": [
    "rev['Text'][2]"
   ]
  },
  {
   "cell_type": "code",
   "execution_count": 52,
   "id": "babf740c",
   "metadata": {},
   "outputs": [
    {
     "data": {
      "text/html": [
       "<div>\n",
       "<style scoped>\n",
       "    .dataframe tbody tr th:only-of-type {\n",
       "        vertical-align: middle;\n",
       "    }\n",
       "\n",
       "    .dataframe tbody tr th {\n",
       "        vertical-align: top;\n",
       "    }\n",
       "\n",
       "    .dataframe thead th {\n",
       "        text-align: right;\n",
       "    }\n",
       "</style>\n",
       "<table border=\"1\" class=\"dataframe\">\n",
       "  <thead>\n",
       "    <tr style=\"text-align: right;\">\n",
       "      <th></th>\n",
       "      <th>Text</th>\n",
       "    </tr>\n",
       "  </thead>\n",
       "  <tbody>\n",
       "    <tr>\n",
       "      <th>0</th>\n",
       "      <td>I have bought several of the Vitality canned d...</td>\n",
       "    </tr>\n",
       "    <tr>\n",
       "      <th>1</th>\n",
       "      <td>Product arrived labeled as Jumbo Salted Peanut...</td>\n",
       "    </tr>\n",
       "    <tr>\n",
       "      <th>2</th>\n",
       "      <td>This is a confection that has been around a fe...</td>\n",
       "    </tr>\n",
       "    <tr>\n",
       "      <th>3</th>\n",
       "      <td>If you are looking for the secret ingredient i...</td>\n",
       "    </tr>\n",
       "    <tr>\n",
       "      <th>4</th>\n",
       "      <td>Great taffy at a great price.  There was a wid...</td>\n",
       "    </tr>\n",
       "  </tbody>\n",
       "</table>\n",
       "</div>"
      ],
      "text/plain": [
       "                                                Text\n",
       "0  I have bought several of the Vitality canned d...\n",
       "1  Product arrived labeled as Jumbo Salted Peanut...\n",
       "2  This is a confection that has been around a fe...\n",
       "3  If you are looking for the secret ingredient i...\n",
       "4  Great taffy at a great price.  There was a wid..."
      ]
     },
     "execution_count": 52,
     "metadata": {},
     "output_type": "execute_result"
    }
   ],
   "source": [
    "rev.head()"
   ]
  },
  {
   "cell_type": "code",
   "execution_count": null,
   "id": "227f1cf1",
   "metadata": {},
   "outputs": [],
   "source": []
  },
  {
   "cell_type": "code",
   "execution_count": 94,
   "id": "d00796f5",
   "metadata": {},
   "outputs": [
    {
     "data": {
      "text/plain": [
       "'this is a confection that has been around a few centuries it is a light pillowy citrus gelatin with nuts in this case filberts and it is cut into tiny squares and then liberally coated with powdered sugar and it is a tiny mouthful of heaven not too chewy and very flavorful i highly recommend this yummy treat if you are familiar with the story of c s lewis the lion the witch and the wardrobe this is the treat that seduces edmund into selling out his brother and sisters to the witch '"
      ]
     },
     "execution_count": 94,
     "metadata": {},
     "output_type": "execute_result"
    }
   ],
   "source": [
    "import re\n",
    "def pre_process(text):\n",
    "    \n",
    "    text = text.lower() # lowercase\n",
    "    \n",
    "    text = re.sub(\"\",\"\",text)#remove tags\n",
    "    \n",
    "    text = re.sub(\"(\\\\d|\\\\W)+\",\" \",text) # remove special characters and digits\n",
    "    \n",
    "    text = re.sub('\\s+',' ',text)\n",
    "    text = text.replace('\\n','')\n",
    "    text = text.replace('\\t','')\n",
    "    text = re.sub(\"\",\"\",text)\n",
    "    text = re.sub('[^A-Za-z0-9.]+|\\s',' ',text)\n",
    "    return text\n",
    "\n",
    "\n",
    "rev['Text'] = rev['Text'].apply(lambda x:pre_process(x))\n",
    "\n",
    "#test\n",
    "rev['Text'][2]"
   ]
  },
  {
   "cell_type": "code",
   "execution_count": 95,
   "id": "1bb6ff9a",
   "metadata": {},
   "outputs": [],
   "source": [
    "stop_words = set(stopwords.words(\"english\"))"
   ]
  },
  {
   "cell_type": "code",
   "execution_count": 96,
   "id": "fb83bf36",
   "metadata": {},
   "outputs": [],
   "source": [
    "from sklearn.feature_extraction.text import CountVectorizer"
   ]
  },
  {
   "cell_type": "code",
   "execution_count": 97,
   "id": "fbd69804",
   "metadata": {},
   "outputs": [],
   "source": [
    "doc = rev['Text'].tolist()"
   ]
  },
  {
   "cell_type": "code",
   "execution_count": 98,
   "id": "740049ab",
   "metadata": {},
   "outputs": [],
   "source": [
    "cv=CountVectorizer(max_df=0.85,stop_words='english',max_features=10000)\n",
    "word_count_vector=cv.fit_transform(doc)"
   ]
  },
  {
   "cell_type": "code",
   "execution_count": 99,
   "id": "e1fbb3f5",
   "metadata": {},
   "outputs": [
    {
     "data": {
      "text/plain": [
       "['bought',\n",
       " 'vitality',\n",
       " 'canned',\n",
       " 'dog',\n",
       " 'food',\n",
       " 'products',\n",
       " 'good',\n",
       " 'quality',\n",
       " 'product',\n",
       " 'looks']"
      ]
     },
     "execution_count": 99,
     "metadata": {},
     "output_type": "execute_result"
    }
   ],
   "source": [
    "list(cv.vocabulary_.keys())[:10]"
   ]
  },
  {
   "cell_type": "code",
   "execution_count": 100,
   "id": "1845970f",
   "metadata": {},
   "outputs": [
    {
     "data": {
      "text/html": [
       "<div>\n",
       "<style scoped>\n",
       "    .dataframe tbody tr th:only-of-type {\n",
       "        vertical-align: middle;\n",
       "    }\n",
       "\n",
       "    .dataframe tbody tr th {\n",
       "        vertical-align: top;\n",
       "    }\n",
       "\n",
       "    .dataframe thead th {\n",
       "        text-align: right;\n",
       "    }\n",
       "</style>\n",
       "<table border=\"1\" class=\"dataframe\">\n",
       "  <thead>\n",
       "    <tr style=\"text-align: right;\">\n",
       "      <th></th>\n",
       "      <th>Text</th>\n",
       "    </tr>\n",
       "  </thead>\n",
       "  <tbody>\n",
       "    <tr>\n",
       "      <th>0</th>\n",
       "      <td>i have bought several of the vitality canned d...</td>\n",
       "    </tr>\n",
       "    <tr>\n",
       "      <th>1</th>\n",
       "      <td>product arrived labeled as jumbo salted peanut...</td>\n",
       "    </tr>\n",
       "    <tr>\n",
       "      <th>2</th>\n",
       "      <td>this is a confection that has been around a fe...</td>\n",
       "    </tr>\n",
       "    <tr>\n",
       "      <th>3</th>\n",
       "      <td>if you are looking for the secret ingredient i...</td>\n",
       "    </tr>\n",
       "    <tr>\n",
       "      <th>4</th>\n",
       "      <td>great taffy at a great price there was a wide ...</td>\n",
       "    </tr>\n",
       "  </tbody>\n",
       "</table>\n",
       "</div>"
      ],
      "text/plain": [
       "                                                Text\n",
       "0  i have bought several of the vitality canned d...\n",
       "1  product arrived labeled as jumbo salted peanut...\n",
       "2  this is a confection that has been around a fe...\n",
       "3  if you are looking for the secret ingredient i...\n",
       "4  great taffy at a great price there was a wide ..."
      ]
     },
     "execution_count": 100,
     "metadata": {},
     "output_type": "execute_result"
    }
   ],
   "source": [
    "rev.head()"
   ]
  },
  {
   "cell_type": "code",
   "execution_count": 103,
   "id": "4afe46cd",
   "metadata": {},
   "outputs": [],
   "source": [
    "from nltk.stem.porter import PorterStemmer\n",
    "from nltk.tokenize import RegexpTokenizer\n",
    "from nltk.stem.wordnet import WordNetLemmatizer"
   ]
  },
  {
   "cell_type": "code",
   "execution_count": 104,
   "id": "7562d506",
   "metadata": {},
   "outputs": [],
   "source": [
    "lem = WordNetLemmatizer()\n",
    "stem = PorterStemmer()\n",
    "#word = \"jogging\"\n",
    "#print(\"stemming:\", stem.stem(word))\n",
    "#print(\"lemmatization:\", lem.lemmatize(word, \"v\"))"
   ]
  },
  {
   "cell_type": "code",
   "execution_count": null,
   "id": "17cfc366",
   "metadata": {},
   "outputs": [],
   "source": [
    "corpus = []\n",
    "for i in rev[\"Text\"]:\n",
    "    ps = PorterStemmer()\n",
    "    lem = WordNetLemmatizer()\n",
    "    text = [lem.lemmatize(word) for word in text if not word in stop_words]\n",
    "    text = \" \".join(text)\n",
    "    corpus.append(text)\n",
    "     "
   ]
  },
  {
   "cell_type": "code",
   "execution_count": null,
   "id": "1d3dd787",
   "metadata": {},
   "outputs": [],
   "source": []
  },
  {
   "cell_type": "code",
   "execution_count": null,
   "id": "676ecc91",
   "metadata": {},
   "outputs": [],
   "source": []
  },
  {
   "cell_type": "code",
   "execution_count": 93,
   "id": "96150c96",
   "metadata": {},
   "outputs": [],
   "source": [
    "corpus = []\n",
    "for i in rev[\"Text\"]:\n",
    "    text = re.sub(\"[^a-zA-Z]\", \" \", i)# Remove punctuations\n",
    "    text = text.lower() # Convert to lowercase\n",
    "    text = re.sub(\"&lt;/?.*?&gt;\", \" &lt;&gt; \", text)# remove tags\n",
    "    text = re.sub(\"(\\\\d|\\\\W)+\", \" \", text)# remove special characters and digits\n",
    "    text = text.split()##Convert to list from string\n",
    "\n",
    "    ##Stemming\n",
    "    ps = PorterStemmer()\n",
    "    # Lemmatisation\n",
    "    lem = WordNetLemmatizer()\n",
    "    text = [lem.lemmatize(word) for word in text if not word in stop_words]\n",
    "    text = \" \".join(text)\n",
    "    corpus.append(text)"
   ]
  },
  {
   "cell_type": "code",
   "execution_count": 87,
   "id": "dc8d3bc1",
   "metadata": {},
   "outputs": [
    {
     "data": {
      "text/plain": [
       "568456"
      ]
     },
     "execution_count": 87,
     "metadata": {},
     "output_type": "execute_result"
    }
   ],
   "source": [
    "len(corpus)"
   ]
  },
  {
   "cell_type": "code",
   "execution_count": 88,
   "id": "80b7a7b0",
   "metadata": {},
   "outputs": [],
   "source": [
    "#corpus"
   ]
  },
  {
   "cell_type": "code",
   "execution_count": 91,
   "id": "e061f6fb",
   "metadata": {},
   "outputs": [],
   "source": [
    "doc = corpus[2]"
   ]
  },
  {
   "cell_type": "code",
   "execution_count": 92,
   "id": "412df158",
   "metadata": {},
   "outputs": [
    {
     "data": {
      "text/plain": [
       "'satisfied product advertised use cereal raw vinegar general sweetner'"
      ]
     },
     "execution_count": 92,
     "metadata": {},
     "output_type": "execute_result"
    }
   ],
   "source": [
    "doc"
   ]
  },
  {
   "cell_type": "markdown",
   "id": "8d93230c",
   "metadata": {},
   "source": [
    "rake-nltk"
   ]
  },
  {
   "cell_type": "code",
   "execution_count": 95,
   "id": "75a7fc91",
   "metadata": {},
   "outputs": [],
   "source": [
    "from rake_nltk import Rake"
   ]
  },
  {
   "cell_type": "code",
   "execution_count": 96,
   "id": "74108fab",
   "metadata": {},
   "outputs": [],
   "source": [
    "import nltk\n",
    "from nltk import word_tokenize\n",
    "import string"
   ]
  },
  {
   "cell_type": "code",
   "execution_count": 98,
   "id": "c99d977e",
   "metadata": {},
   "outputs": [],
   "source": [
    "def clean(text):\n",
    "    text = text.lower()\n",
    "    printable = set(string.printable)\n",
    "\n",
    "    return text\n",
    "\n",
    "Cleaned_text = clean(doc)"
   ]
  },
  {
   "cell_type": "code",
   "execution_count": 99,
   "id": "891a9fd9",
   "metadata": {},
   "outputs": [],
   "source": [
    "rake = Rake()\n",
    "rake.extract_keywords_from_text(doc)"
   ]
  },
  {
   "cell_type": "code",
   "execution_count": 100,
   "id": "45d97794",
   "metadata": {},
   "outputs": [
    {
     "data": {
      "text/plain": [
       "[(784.0,\n",
       "  'roast large cast iron pan grill bag time smell wonderful roasted bean taste delicious importantly coffee smooth bitter aftertaste numerous occasion send roasted bean home friend like much')]"
      ]
     },
     "execution_count": 100,
     "metadata": {},
     "output_type": "execute_result"
    }
   ],
   "source": [
    "rake.get_ranked_phrases_with_scores()"
   ]
  },
  {
   "cell_type": "markdown",
   "id": "4f6b92b2",
   "metadata": {},
   "source": [
    "yake"
   ]
  },
  {
   "cell_type": "code",
   "execution_count": 76,
   "id": "31a15265",
   "metadata": {},
   "outputs": [],
   "source": [
    "import yake"
   ]
  },
  {
   "cell_type": "code",
   "execution_count": 79,
   "id": "02054415",
   "metadata": {},
   "outputs": [],
   "source": [
    "modelY = yake.KeywordExtractor()\n",
    "keywords = modelY.extract_keywords(doc)"
   ]
  },
  {
   "cell_type": "code",
   "execution_count": 85,
   "id": "86d794ab",
   "metadata": {},
   "outputs": [],
   "source": [
    "to_be_extracted = yake.KeywordExtractor(lan = \"en\", n = 3,dedupLim = 0.9, dedupFunc = \"seqm\", windowsSize=1, top=10,)\n",
    "keywords = to_be_extracted.extract_keywords(doc)"
   ]
  },
  {
   "cell_type": "code",
   "execution_count": 86,
   "id": "4aec7026",
   "metadata": {},
   "outputs": [
    {
     "name": "stdout",
     "output_type": "stream",
     "text": [
      "('roast large cast', 0.003683438125747622)\n",
      "('large cast iron', 0.006172028049662181)\n",
      "('cast iron pan', 0.006172028049662181)\n",
      "('iron pan grill', 0.006172028049662181)\n",
      "('pan grill bag', 0.006172028049662181)\n",
      "('grill bag time', 0.006172028049662181)\n",
      "('bag time smell', 0.006172028049662181)\n",
      "('time smell wonderful', 0.006172028049662181)\n",
      "('taste delicious importantly', 0.006172028049662181)\n",
      "('delicious importantly coffee', 0.006172028049662181)\n"
     ]
    }
   ],
   "source": [
    "for kw in keywords:\n",
    "    print(kw)"
   ]
  },
  {
   "cell_type": "markdown",
   "id": "dc7bd936",
   "metadata": {},
   "source": [
    "keyBERT"
   ]
  },
  {
   "cell_type": "code",
   "execution_count": 65,
   "id": "24319e57",
   "metadata": {},
   "outputs": [],
   "source": [
    "from keybert import KeyBERT"
   ]
  },
  {
   "cell_type": "code",
   "execution_count": 66,
   "id": "2500d256",
   "metadata": {},
   "outputs": [],
   "source": [
    "model = KeyBERT()\n",
    "keywords = model.extract_keywords(doc)"
   ]
  },
  {
   "cell_type": "code",
   "execution_count": 87,
   "id": "da185242",
   "metadata": {},
   "outputs": [
    {
     "data": {
      "text/plain": [
       "[('roasted bean taste', 0.7889),\n",
       " ('bean taste delicious', 0.706),\n",
       " ('wonderful roasted bean', 0.7038),\n",
       " ('roasted bean', 0.7013),\n",
       " ('smell wonderful roasted', 0.6876)]"
      ]
     },
     "execution_count": 87,
     "metadata": {},
     "output_type": "execute_result"
    }
   ],
   "source": [
    "model.extract_keywords(doc, keyphrase_ngram_range = (1,3) , stop_words = \"english\")"
   ]
  },
  {
   "cell_type": "code",
   "execution_count": 70,
   "id": "8056c71f",
   "metadata": {},
   "outputs": [
    {
     "data": {
      "text/plain": [
       "[('roasted', 0.5745),\n",
       " ('roast', 0.556),\n",
       " ('grill', 0.5366),\n",
       " ('bean', 0.5142),\n",
       " ('delicious', 0.4594)]"
      ]
     },
     "execution_count": 70,
     "metadata": {},
     "output_type": "execute_result"
    }
   ],
   "source": [
    "keywords"
   ]
  },
  {
   "cell_type": "code",
   "execution_count": null,
   "id": "780f4dc1",
   "metadata": {},
   "outputs": [],
   "source": [
    "[:50]"
   ]
  }
 ],
 "metadata": {
  "kernelspec": {
   "display_name": "Python 3",
   "language": "python",
   "name": "python3"
  },
  "language_info": {
   "codemirror_mode": {
    "name": "ipython",
    "version": 3
   },
   "file_extension": ".py",
   "mimetype": "text/x-python",
   "name": "python",
   "nbconvert_exporter": "python",
   "pygments_lexer": "ipython3",
   "version": "3.8.8"
  }
 },
 "nbformat": 4,
 "nbformat_minor": 5
}
